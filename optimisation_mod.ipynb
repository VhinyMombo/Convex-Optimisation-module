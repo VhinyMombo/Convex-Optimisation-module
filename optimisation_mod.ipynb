{
  "cells": [
    {
      "cell_type": "markdown",
      "metadata": {
        "id": "view-in-github",
        "colab_type": "text"
      },
      "source": [
        "<a href=\"https://colab.research.google.com/github/VhinyMombo/Convex-Optimisation-module/blob/main/optimisation_mod.ipynb\" target=\"_parent\"><img src=\"https://colab.research.google.com/assets/colab-badge.svg\" alt=\"Open In Colab\"/></a>"
      ]
    },
    {
      "cell_type": "code",
      "execution_count": null,
      "metadata": {
        "id": "2Snn_sfM6Fkv"
      },
      "outputs": [],
      "source": [
        ""
      ]
    },
    {
      "cell_type": "code",
      "execution_count": 1,
      "metadata": {
        "colab": {
          "base_uri": "https://localhost:8080/"
        },
        "id": "tYsxCVzK6Fky",
        "outputId": "604e5801-728f-44b2-d292-bb5ccb3ef446"
      },
      "outputs": [
        {
          "output_type": "stream",
          "name": "stdout",
          "text": [
            "Writing quadratic.py\n"
          ]
        }
      ],
      "source": [
        "#%%writefile -a quadratic.py\n",
        "import numpy as np\n",
        "import matplotlib.pyplot as plt\n",
        "class quadratic :\n",
        "    def __init__(self, gamma):\n",
        "        self.gamma = gamma\n",
        "    def loss(self,X):\n",
        "        return (X**2 * self.gamma).sum()\n",
        "    def grad(self,X):\n",
        "        return 2*X*self.gamma\n",
        "    def hessian(self,X):\n",
        "        return np.diag(2*self.gamma)\n",
        "    def backtracking(self, X, DX, alpha, beta):\n",
        "        t = 1\n",
        "        while self.loss(X + t * DX) >= self.loss(X) + alpha * t * self.grad(X).T.dot(DX):\n",
        "            t = beta * t\n",
        "        return t\n",
        "        \n",
        "    \n",
        "    def grad_descent(self, X0 ,n_iter = 300, beta = 0.1, alpha = 0.1, tol = 1e-5):\n",
        "        X = X0\n",
        "        X_store = []\n",
        "        X_store.append(X0)\n",
        "        loss = [self.loss(X)]\n",
        "        #print(n_iter)\n",
        "        for i in range(n_iter):\n",
        "            #print(i)\n",
        "            DX = -self.grad(X)\n",
        "            t = self.backtracking(X, DX, alpha, beta)\n",
        "            X = X+t * DX\n",
        "            X_store.append(X)\n",
        "            loss.append(self.loss(X))\n",
        "            if self.loss(X) < tol:\n",
        "                break\n",
        "        return X_store, loss\n",
        "    \n",
        "    def newton_method(self,X0,n_iter = 300,alpha = 0.1, beta = 0.1, tol =1e-3):\n",
        "        X = X0\n",
        "        X_store = []\n",
        "        X_store.append(X0)\n",
        "        loss = [self.loss(X)]\n",
        "        for i in range(n_iter):\n",
        "            print(i)\n",
        "            DX = -np.linalg.inv(self.hessian(X)).dot(self.grad(X))\n",
        "            lamba2 = self.grad(X).T.dot(np.linalg.inv(self.hessian(X)).dot(self.grad(X)))\n",
        "            if lamba2/2 <= tol:\n",
        "                return X_store, loss\n",
        "            ### line search \n",
        "            t = self.backtracking(X, DX, alpha, beta)\n",
        "            X = X+t * DX\n",
        "            X_store.append(X)\n",
        "            loss.append(self.loss(X))\n",
        "        return X_store, loss\n",
        "            \n",
        "                "
      ]
    },
    {
      "cell_type": "code",
      "execution_count": 2,
      "metadata": {
        "colab": {
          "base_uri": "https://localhost:8080/"
        },
        "id": "PU_Np5Oc6Fkz",
        "outputId": "26239855-8fd3-40b8-dd92-d5e4c0e80716"
      },
      "outputs": [
        {
          "output_type": "stream",
          "name": "stdout",
          "text": [
            "Writing main.py\n"
          ]
        }
      ],
      "source": [
        "#%%writefile -a main.py\n",
        "gamma = np.array([30,150])\n",
        "ell = quadratic(gamma)\n",
        "x0 = np.array([40,40])\n",
        "rs1,loss1 = ell.grad_descent(x0)\n",
        "rs2, loss2 = ell.newton_method(x0)\n",
        "\n",
        "##### import numpy as np\n",
        "#gamma = np.array([4,1.5])\n",
        "npts = 200\n",
        "xlim = 70\n",
        "ylim = xlim\n",
        "x1 = np.linspace(-xlim, xlim, npts)\n",
        "x2 = np.linspace(-ylim, ylim, npts)\n",
        "X1, X2 = np.meshgrid(x1, x2)\n",
        "Y = (np.sqrt((np.array([X1.flatten(),X2.flatten()])\n",
        "              .T**2*gamma)\n",
        "         .sum(axis = 1))\n",
        "         .reshape([npts,npts]))\n",
        "plt.figure(figsize=(15,5))\n",
        "ax = plt.subplot(121)\n",
        "ax.plot(np.sqrt(loss1), label = 'Gradient descent')\n",
        "ax.plot(np.sqrt(loss2), label = 'Steepest descent')\n",
        "plt.xlabel('# iteration')\n",
        "plt.ylabel('loss')\n",
        "ax.legend()\n",
        "\n",
        "#cm = plt.cm.get_cmap('viridis')\n",
        "#plt.scatter(X1, X2, c=Y, cmap=cm)\n",
        "#plt.xlabel('X1')\n",
        "#plt.ylabel('X2')\n",
        "ax2 =  plt.subplot(122)\n",
        "for i in range(len(rs1) - 1):\n",
        "    ax2.annotate('', xy=rs1[i + 1], xytext=rs1[i],\n",
        "                 arrowprops={'arrowstyle': '->', 'color': 'r', 'lw': 1},\n",
        "                 va='center', ha='center')\n",
        "for i in range(len(rs2) - 1):\n",
        "    ax2.annotate('', xy=rs2[i + 1], xytext=rs2[i],\n",
        "                 arrowprops={'arrowstyle': '->', 'color': 'orange', 'lw': 1},\n",
        "                 va='center', ha='center')\n",
        "cp = plt.contour(X1, X2, Y, colors='black', linestyles='dashed', linewidths=1)\n",
        "plt.clabel(cp, inline=1, fontsize=10)\n",
        "cp = plt.contourf(X1, X2, Y, )\n",
        "plt.xlabel('X1')\n",
        "plt.ylabel('X2')\n",
        "plt.legend([\"fsdf\"])\n",
        "#plt.legend('grad descent', 'steepest descent')\n",
        "plt.show()"
      ]
    },
    {
      "cell_type": "code",
      "execution_count": null,
      "metadata": {
        "id": "s-cpHqv56Fk1",
        "outputId": "01f67b9d-c373-45ee-870c-e5092642f2c7"
      },
      "outputs": [
        {
          "name": "stdout",
          "output_type": "stream",
          "text": [
            "0\n",
            "1\n"
          ]
        },
        {
          "data": {
            "text/plain": [
              "[<matplotlib.lines.Line2D at 0x7f1523d9fbb0>]"
            ]
          },
          "execution_count": 7,
          "metadata": {},
          "output_type": "execute_result"
        },
        {
          "data": {
            "image/png": "[encoded data removed]",
            "text/plain": [
              "<Figure size 432x288 with 1 Axes>"
            ]
          },
          "metadata": {
            "needs_background": "light"
          },
          "output_type": "display_data"
        }
      ],
      "source": [
        "gamma = np.array([0.5,5])\n",
        "ell = quadratic(gamma)\n",
        "x0 = np.array([100,-100])\n",
        "rs1,loss1 = ell.grad_descent(x0)\n",
        "rs2, loss2 = ell.newton_method(.x0)\n",
        "plt.plot(loss1)\n",
        "plt.plot(loss2)"
      ]
    }
  ],
  "metadata": {
    "kernelspec": {
      "display_name": "tf",
      "language": "python",
      "name": "tf"
    },
    "language_info": {
      "codemirror_mode": {
        "name": "ipython",
        "version": 3
      },
      "file_extension": ".py",
      "mimetype": "text/x-python",
      "name": "python",
      "nbconvert_exporter": "python",
      "pygments_lexer": "ipython3",
      "version": "3.8.10"
    },
    "colab": {
      "name": "optimisation_mod.ipynb",
      "provenance": [],
      "include_colab_link": true
    }
  },
  "nbformat": 4,
  "nbformat_minor": 0
}